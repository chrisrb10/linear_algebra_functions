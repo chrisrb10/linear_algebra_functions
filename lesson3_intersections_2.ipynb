{
 "cells": [
  {
   "cell_type": "markdown",
   "metadata": {},
   "source": [
    "### Linear Algebra Refresher\n",
    "\n",
    "## Lesson 3 - Intersections Pt2\n"
   ]
  },
  {
   "cell_type": "code",
   "execution_count": 1,
   "metadata": {
    "collapsed": true
   },
   "outputs": [],
   "source": [
    "import numpy as np\n",
    "\n",
    "from decimal import Decimal, getcontext\n",
    "\n",
    "from vector import Vector\n",
    "from line import Line\n",
    "from plane import Plane\n",
    "\n"
   ]
  },
  {
   "cell_type": "code",
   "execution_count": 2,
   "metadata": {},
   "outputs": [],
   "source": [
    "# use line below to run BEFORE parametrization added\n",
    "#from linsys_OLD import LinearSystem\n",
    "\n",
    "\n",
    "# use lines below to run AFTER parametriztion added\n",
    "#from linsys import LinearSystem\n",
    "#from linsys import Parametrization\n",
    "\n",
    "\n",
    "# use lines below to run as hyperplane\n",
    "from linsys_hp import LinearSystem\n",
    "from hyperplane import Hyperplane\n",
    "\n",
    "\n",
    "from linsys import MyDecimal"
   ]
  },
  {
   "cell_type": "code",
   "execution_count": 3,
   "metadata": {},
   "outputs": [
    {
     "name": "stdout",
     "output_type": "stream",
     "text": [
      "[0, 1, 0, 0]\n",
      "x_1 + x_2 + x_3 = 1,x_2 = 2,x_1 + x_2 - x_3 = 3,x_1 - 2x_3 = 2\n",
      "4\n",
      "Linear System:\n",
      "Equation 1: x_1 + x_2 + x_3 = 1\n",
      "Equation 2: x_2 = 2\n",
      "Equation 3: x_1 + x_2 - x_3 = 3\n",
      "Equation 4: x_1 - 2x_3 = 2\n"
     ]
    }
   ],
   "source": [
    "p0 = Plane(normal_vector=Vector([1,1,1]), constant_term=1)\n",
    "p1 = Plane(normal_vector=Vector([0,1,0]), constant_term=2)\n",
    "p2 = Plane(normal_vector=Vector([1,1,-1]), constant_term=3)\n",
    "p3 = Plane(normal_vector=Vector([1,0,-2]), constant_term=2)\n",
    "\n",
    "s = LinearSystem([p0,p1,p2,p3])\n",
    "\n",
    "print s.indices_of_first_nonzero_terms_in_each_row()\n",
    "print '{},{},{},{}'.format(s[0],s[1],s[2],s[3])\n",
    "print len(s)\n",
    "print s\n",
    "\n"
   ]
  },
  {
   "cell_type": "code",
   "execution_count": 4,
   "metadata": {},
   "outputs": [],
   "source": [
    "#s[0] = p1\n",
    "#print s\n",
    "\n"
   ]
  },
  {
   "cell_type": "code",
   "execution_count": 5,
   "metadata": {},
   "outputs": [],
   "source": [
    "#print MyDecimal('1e-9').is_near_zero()\n",
    "#print MyDecimal('1e-11').is_near_zero()"
   ]
  },
  {
   "cell_type": "code",
   "execution_count": 6,
   "metadata": {},
   "outputs": [
    {
     "name": "stdout",
     "output_type": "stream",
     "text": [
      "x_1 + x_2 + x_3 = 1\n"
     ]
    }
   ],
   "source": [
    "print s[0]"
   ]
  },
  {
   "cell_type": "code",
   "execution_count": null,
   "metadata": {},
   "outputs": [],
   "source": []
  },
  {
   "cell_type": "code",
   "execution_count": 7,
   "metadata": {},
   "outputs": [
    {
     "name": "stdout",
     "output_type": "stream",
     "text": [
      "Linear System:\n",
      "Equation 1: x_1 + x_2 + x_3 = 1\n",
      "Equation 2: x_2 = 2\n",
      "Equation 3: x_1 + x_2 - x_3 = 3\n",
      "Equation 4: x_1 - 2x_3 = 2\n"
     ]
    }
   ],
   "source": [
    "print s"
   ]
  },
  {
   "cell_type": "markdown",
   "metadata": {},
   "source": [
    "\n",
    "### Testing Row operations"
   ]
  },
  {
   "cell_type": "code",
   "execution_count": 8,
   "metadata": {},
   "outputs": [
    {
     "name": "stdout",
     "output_type": "stream",
     "text": [
      "Linear System:\n",
      "Equation 1: x_1 + x_2 + x_3 = 1\n",
      "Equation 2: x_2 = 2\n",
      "Equation 3: x_1 + x_2 - x_3 = 3\n",
      "Equation 4: x_1 - 2x_3 = 2\n"
     ]
    }
   ],
   "source": [
    "p0 = Plane(normal_vector=Vector(['1','1','1']), constant_term='1')\n",
    "p1 = Plane(normal_vector=Vector(['0','1','0']), constant_term='2')\n",
    "p2 = Plane(normal_vector=Vector(['1','1','-1']), constant_term='3')\n",
    "p3 = Plane(normal_vector=Vector(['1','0','-2']), constant_term='2')\n",
    "\n",
    "s = LinearSystem([p0,p1,p2,p3])\n",
    "print s"
   ]
  },
  {
   "cell_type": "code",
   "execution_count": 9,
   "metadata": {},
   "outputs": [
    {
     "name": "stdout",
     "output_type": "stream",
     "text": [
      "Linear System:\n",
      "Equation 1: x_2 = 2\n",
      "Equation 2: x_1 + x_2 + x_3 = 1\n",
      "Equation 3: x_1 + x_2 - x_3 = 3\n",
      "Equation 4: x_1 - 2x_3 = 2\n"
     ]
    }
   ],
   "source": [
    "s.swap_rows(0,1)\n",
    "if not (s[0] == p1 and s[1] == p0 and s[2] == p2 and s[3] == p3):\n",
    "    print 'test case 1 failed'\n",
    "\n",
    "s.swap_rows(1,3)\n",
    "if not (s[0] == p1 and s[1] == p3 and s[2] == p2 and s[3] == p0):\n",
    "    print 'test case 2 failed'\n",
    "\n",
    "s.swap_rows(3,1)\n",
    "if not (s[0] == p1 and s[1] == p0 and s[2] == p2 and s[3] == p3):\n",
    "    print 'test case 3 failed'\n",
    "\n",
    "s.multiply_coefficient_and_row(1,0)\n",
    "if not (s[0] == p1 and s[1] == p0 and s[2] == p2 and s[3] == p3):\n",
    "    print 'test case 4 failed'\n",
    "\n",
    "    \n",
    "print s"
   ]
  },
  {
   "cell_type": "code",
   "execution_count": 10,
   "metadata": {},
   "outputs": [
    {
     "name": "stdout",
     "output_type": "stream",
     "text": [
      "Linear System:\n",
      "Equation 1: x_2 = 2\n",
      "Equation 2: 10x_1 + 10x_2 + 10x_3 = 10\n",
      "Equation 3: -x_1 - x_2 + x_3 = -3\n",
      "Equation 4: x_1 - 2x_3 = 2\n"
     ]
    }
   ],
   "source": [
    "s.multiply_coefficient_and_row(-1,2)\n",
    "if not (s[0] == p1 and\n",
    "        s[1] == p0 and\n",
    "        s[2] == Plane(normal_vector=Vector(['-1','-1','1']), constant_term='-3') and\n",
    "        s[3] == p3):\n",
    "    print 'test case 5 failed'\n",
    "\n",
    "s.multiply_coefficient_and_row(10,1)\n",
    "if not (s[0] == p1 and\n",
    "        s[1] == Plane(normal_vector=Vector(['10','10','10']), constant_term='10') and\n",
    "        s[2] == Plane(normal_vector=Vector(['-1','-1','1']), constant_term='-3') and\n",
    "        s[3] == p3):\n",
    "    print 'test case 6 failed'\n",
    "    \n",
    "print s"
   ]
  },
  {
   "cell_type": "code",
   "execution_count": 11,
   "metadata": {},
   "outputs": [
    {
     "name": "stdout",
     "output_type": "stream",
     "text": [
      "Linear System:\n",
      "Equation 1: -10x_1 - 10x_2 - 10x_3 = -10\n",
      "Equation 2: 10x_1 + 11x_2 + 10x_3 = 12\n",
      "Equation 3: -x_1 - x_2 + x_3 = -3\n",
      "Equation 4: x_1 - 2x_3 = 2\n"
     ]
    }
   ],
   "source": [
    "s.add_multiple_times_row_to_row(0,0,1)\n",
    "if not (s[0] == p1 and\n",
    "        s[1] == Plane(normal_vector=Vector(['10','10','10']), constant_term='10') and\n",
    "        s[2] == Plane(normal_vector=Vector(['-1','-1','1']), constant_term='-3') and\n",
    "        s[3] == p3):\n",
    "    print 'test case 7 failed'\n",
    "\n",
    "s.add_multiple_times_row_to_row(1,0,1)\n",
    "if not (s[0] == p1 and\n",
    "        s[1] == Plane(normal_vector=Vector(['10','11','10']), constant_term='12') and\n",
    "        s[2] == Plane(normal_vector=Vector(['-1','-1','1']), constant_term='-3') and\n",
    "        s[3] == p3):\n",
    "    print 'test case 8 failed'\n",
    "\n",
    "s.add_multiple_times_row_to_row(-1,1,0)\n",
    "if not (s[0] == Plane(normal_vector=Vector(['-10','-10','-10']), constant_term='-10') and\n",
    "        s[1] == Plane(normal_vector=Vector(['10','11','10']), constant_term='12') and\n",
    "        s[2] == Plane(normal_vector=Vector(['-1','-1','1']), constant_term='-3') and\n",
    "        s[3] == p3):\n",
    "    print 'test case 9 failed'\n",
    "    \n",
    "print s"
   ]
  },
  {
   "cell_type": "code",
   "execution_count": null,
   "metadata": {},
   "outputs": [],
   "source": []
  },
  {
   "cell_type": "markdown",
   "metadata": {},
   "source": [
    "### Testing coding triangular form"
   ]
  },
  {
   "cell_type": "code",
   "execution_count": 12,
   "metadata": {},
   "outputs": [
    {
     "name": "stdout",
     "output_type": "stream",
     "text": [
      "Linear System:\n",
      "Equation 1: x_2 + x_3 = 1\n",
      "Equation 2: x_1 - x_2 + x_3 = 2\n",
      "Equation 3: x_1 + 2x_2 - 5x_3 = 3 \n",
      "\n",
      "Linear System:\n",
      "Equation 1: x_1 - x_2 + x_3 = 2\n",
      "Equation 2: x_2 + x_3 = 1\n",
      "Equation 3: -9x_3 = -2\n"
     ]
    }
   ],
   "source": [
    "p1 = Plane(normal_vector=Vector(['1','1','1']), constant_term='1')\n",
    "p2 = Plane(normal_vector=Vector(['0','1','1']), constant_term='2')\n",
    "s = LinearSystem([p1,p2])\n",
    "t = s.compute_triangular_form()\n",
    "if not (t[0] == p1 and\n",
    "        t[1] == p2):\n",
    "    print 'test case 1 failed'\n",
    "\n",
    "p1 = Plane(normal_vector=Vector(['1','1','1']), constant_term='1')\n",
    "p2 = Plane(normal_vector=Vector(['1','1','1']), constant_term='2')\n",
    "s = LinearSystem([p1,p2])\n",
    "t = s.compute_triangular_form()\n",
    "if not (t[0] == p1 and\n",
    "        t[1] == Plane(constant_term='1')):\n",
    "    print 'test case 2 failed'\n",
    "\n",
    "p1 = Plane(normal_vector=Vector(['1','1','1']), constant_term='1')\n",
    "p2 = Plane(normal_vector=Vector(['0','1','0']), constant_term='2')\n",
    "p3 = Plane(normal_vector=Vector(['1','1','-1']), constant_term='3')\n",
    "p4 = Plane(normal_vector=Vector(['1','0','-2']), constant_term='2')\n",
    "s = LinearSystem([p1,p2,p3,p4])\n",
    "t = s.compute_triangular_form()\n",
    "if not (t[0] == p1 and\n",
    "        t[1] == p2 and\n",
    "        t[2] == Plane(normal_vector=Vector(['0','0','-2']), constant_term='2') and\n",
    "        t[3] == Plane()):\n",
    "    print 'test case 3 failed'\n",
    "\n",
    "p1 = Plane(normal_vector=Vector(['0','1','1']), constant_term='1')\n",
    "p2 = Plane(normal_vector=Vector(['1','-1','1']), constant_term='2')\n",
    "p3 = Plane(normal_vector=Vector(['1','2','-5']), constant_term='3')\n",
    "s = LinearSystem([p1,p2,p3])\n",
    "t = s.compute_triangular_form()\n",
    "if not (t[0] == Plane(normal_vector=Vector(['1','-1','1']), constant_term='2') and\n",
    "        t[1] == Plane(normal_vector=Vector(['0','1','1']), constant_term='1') and\n",
    "        t[2] == Plane(normal_vector=Vector(['0','0','-9']), constant_term='-2')):\n",
    "    print 'test case 4 failed'\n",
    "    \n",
    "print s, '\\n'\n",
    "print t"
   ]
  },
  {
   "cell_type": "code",
   "execution_count": null,
   "metadata": {},
   "outputs": [],
   "source": []
  },
  {
   "cell_type": "markdown",
   "metadata": {},
   "source": [
    "### Testing RREF coding"
   ]
  },
  {
   "cell_type": "code",
   "execution_count": 13,
   "metadata": {},
   "outputs": [],
   "source": [
    "p1 = Plane(normal_vector=Vector(['1','1','1']), constant_term='1')\n",
    "p2 = Plane(normal_vector=Vector(['0','1','1']), constant_term='2')\n",
    "s = LinearSystem([p1,p2])\n",
    "r = s.compute_rref()\n",
    "if not (r[0] == Plane(normal_vector=Vector(['1','0','0']), constant_term='-1') and\n",
    "        r[1] == p2):\n",
    "    print 'test case 1 failed'\n",
    "\n",
    "p1 = Plane(normal_vector=Vector(['1','1','1']), constant_term='1')\n",
    "p2 = Plane(normal_vector=Vector(['1','1','1']), constant_term='2')\n",
    "s = LinearSystem([p1,p2])\n",
    "r = s.compute_rref()\n",
    "if not (r[0] == p1 and\n",
    "        r[1] == Plane(constant_term='1')):\n",
    "    print 'test case 2 failed'\n",
    "\n",
    "p1 = Plane(normal_vector=Vector(['1','1','1']), constant_term='1')\n",
    "p2 = Plane(normal_vector=Vector(['0','1','0']), constant_term='2')\n",
    "p3 = Plane(normal_vector=Vector(['1','1','-1']), constant_term='3')\n",
    "p4 = Plane(normal_vector=Vector(['1','0','-2']), constant_term='2')\n",
    "s = LinearSystem([p1,p2,p3,p4])\n",
    "r = s.compute_rref()\n",
    "if not (r[0] == Plane(normal_vector=Vector(['1','0','0']), constant_term='0') and\n",
    "        r[1] == p2 and\n",
    "        r[2] == Plane(normal_vector=Vector(['0','0','-2']), constant_term='2') and\n",
    "        r[3] == Plane()):\n",
    "    print 'test case 3 failed'\n",
    "\n",
    "p1 = Plane(normal_vector=Vector(['0','1','1']), constant_term='1')\n",
    "p2 = Plane(normal_vector=Vector(['1','-1','1']), constant_term='2')\n",
    "p3 = Plane(normal_vector=Vector(['1','2','-5']), constant_term='3')\n",
    "s = LinearSystem([p1,p2,p3])\n",
    "r = s.compute_rref()\n",
    "if not (r[0] == Plane(normal_vector=Vector(['1','0','0']), constant_term=Decimal('23')/Decimal('9')) and\n",
    "        r[1] == Plane(normal_vector=Vector(['0','1','0']), constant_term=Decimal('7')/Decimal('9')) and\n",
    "        r[2] == Plane(normal_vector=Vector(['0','0','1']), constant_term=Decimal('2')/Decimal('9'))):\n",
    "    print 'test case 4 failed'"
   ]
  },
  {
   "cell_type": "code",
   "execution_count": null,
   "metadata": {
    "collapsed": true
   },
   "outputs": [],
   "source": []
  },
  {
   "cell_type": "markdown",
   "metadata": {},
   "source": [
    "### Testing Coding GE solution\n"
   ]
  },
  {
   "cell_type": "code",
   "execution_count": 14,
   "metadata": {},
   "outputs": [
    {
     "name": "stdout",
     "output_type": "stream",
     "text": [
      "System solution:\n",
      "No solutions\n"
     ]
    }
   ],
   "source": [
    "p1 = Plane(normal_vector=Vector([5.862,1.178,-10.366]), constant_term=-8.15)\n",
    "p2 = Plane(normal_vector=Vector([-2.931,-0.589,5.183]), constant_term=-4.075)\n",
    "\n",
    "s = LinearSystem([p1,p2])\n",
    "\n",
    "print 'System solution:\\n{}'.format(s.compute_solution())"
   ]
  },
  {
   "cell_type": "code",
   "execution_count": 15,
   "metadata": {},
   "outputs": [
    {
     "name": "stdout",
     "output_type": "stream",
     "text": [
      "System solution:\n",
      "x_1 = -0.301 + -0.091 t_1\n",
      "x_2 = -0.492 + 0.509 t_1\n",
      "x_3 = 0.0 + 1.0 t_1\n",
      "\n"
     ]
    }
   ],
   "source": [
    "p1 = Plane(normal_vector=Vector([8.631,5.112,-1.816]), constant_term=-5.113)\n",
    "p2 = Plane(normal_vector=Vector([4.315,11.132,-5.27]), constant_term=-6.775)\n",
    "p3 = Plane(normal_vector=Vector([-2.158,3.01,-1.727]), constant_term=-0.831)\n",
    "\n",
    "s = LinearSystem([p1,p2,p3])\n",
    "\n",
    "print 'System solution:\\n{}'.format(s.compute_solution())"
   ]
  },
  {
   "cell_type": "code",
   "execution_count": null,
   "metadata": {
    "collapsed": true
   },
   "outputs": [],
   "source": []
  },
  {
   "cell_type": "code",
   "execution_count": 16,
   "metadata": {},
   "outputs": [
    {
     "name": "stdout",
     "output_type": "stream",
     "text": [
      "System1 solution:\n",
      "x_1 = -1.177 \n",
      "x_2 = 0.707 \n",
      "x_3 = -0.083 \n",
      "\n"
     ]
    }
   ],
   "source": [
    "p1 = Plane(normal_vector=Vector([5.262,2.739,-9.878]), constant_term=-3.441)\n",
    "p2 = Plane(normal_vector=Vector([5.111,6.358,7.638]), constant_term=-2.152)\n",
    "p3 = Plane(normal_vector=Vector([2.016,-9.924,-1.367]), constant_term=-9.278)\n",
    "p4 = Plane(normal_vector=Vector([2.167,-13.543,-18.883]), constant_term=-10.567)\n",
    "\n",
    "s = LinearSystem([p1,p2,p3,p4])\n",
    "\n",
    "print 'System1 solution:\\n{}'.format(s.compute_solution())"
   ]
  },
  {
   "cell_type": "code",
   "execution_count": null,
   "metadata": {
    "collapsed": true
   },
   "outputs": [],
   "source": []
  },
  {
   "cell_type": "markdown",
   "metadata": {},
   "source": [
    "### Coding Parameterization"
   ]
  },
  {
   "cell_type": "code",
   "execution_count": 17,
   "metadata": {},
   "outputs": [
    {
     "name": "stdout",
     "output_type": "stream",
     "text": [
      "System solution:\n",
      "x_1 = -1.346 + -1.0 t_1\n",
      "x_2 = 0.0 + 1.0 t_1\n",
      "x_3 = 0.585 + -0.0 t_1\n",
      "\n"
     ]
    }
   ],
   "source": [
    "p1 = Plane(normal_vector=Vector([0.786,0.786,0.588]), constant_term=-0.714)\n",
    "p2 = Plane(normal_vector=Vector([-0.131,-0.131,0.244]), constant_term=0.319)\n",
    "#p3 = Plane(normal_vector=Vector([2.016,-9.924,-1.367]), constant_term=-9.278)\n",
    "#p4 = Plane(normal_vector=Vector([2.167,-13.543,-18.883]), constant_term=-10.567)\n",
    "\n",
    "s = LinearSystem([p1,p2])\n",
    "\n",
    "print 'System solution:\\n{}'.format(s.compute_solution())"
   ]
  },
  {
   "cell_type": "code",
   "execution_count": 18,
   "metadata": {},
   "outputs": [
    {
     "name": "stdout",
     "output_type": "stream",
     "text": [
      "System solution:\n",
      "x_1 = -0.301 + -0.091 t_1\n",
      "x_2 = -0.492 + 0.509 t_1\n",
      "x_3 = 0.0 + 1.0 t_1\n",
      "\n"
     ]
    }
   ],
   "source": [
    "p1 = Plane(normal_vector=Vector([8.631,5.112,-1.816]), constant_term=-5.113)\n",
    "p2 = Plane(normal_vector=Vector([4.315,11.132,-5.27]), constant_term=-6.775)\n",
    "p3 = Plane(normal_vector=Vector([-2.158,3.01,-1.727]), constant_term=-0.831)\n",
    "#p4 = Plane(normal_vector=Vector([2.167,-13.543,-18.883]), constant_term=-10.567)\n",
    "\n",
    "s = LinearSystem([p1,p2,p3])\n",
    "\n",
    "print 'System solution:\\n{}'.format(s.compute_solution())"
   ]
  },
  {
   "cell_type": "code",
   "execution_count": 19,
   "metadata": {},
   "outputs": [
    {
     "name": "stdout",
     "output_type": "stream",
     "text": [
      "System solution:\n",
      "x_1 = -10.647 + -1.882 t_1+ 10.016 t_2\n",
      "x_2 = 0.0 + 1.0 t_1+ 0.0 t_2\n",
      "x_3 = 0.0 + 0.0 t_1+ 1.0 t_2\n",
      "\n",
      "True\n",
      "True\n",
      "True\n"
     ]
    }
   ],
   "source": [
    "p1 = Plane(normal_vector=Vector([0.935,1.76,-9.365]), constant_term=-9.955)\n",
    "p2 = Plane(normal_vector=Vector([0.187,0.352,-1.873]), constant_term=-1.991)\n",
    "p3 = Plane(normal_vector=Vector([0.374,0.704,-3.746]), constant_term=-3.982)\n",
    "p4 = Plane(normal_vector=Vector([-0.561,-1.056,5.619]), constant_term=5.973)\n",
    "\n",
    "s = LinearSystem([p1,p2,p3,p4])\n",
    "\n",
    "print 'System solution:\\n{}'.format(s.compute_solution())\n",
    "\n",
    "print p1 == p2\n",
    "print p2 == p3\n",
    "print p3 == p4"
   ]
  },
  {
   "cell_type": "code",
   "execution_count": null,
   "metadata": {
    "collapsed": true
   },
   "outputs": [],
   "source": []
  },
  {
   "cell_type": "markdown",
   "metadata": {},
   "source": [
    "### Test Hyperplane"
   ]
  },
  {
   "cell_type": "code",
   "execution_count": 22,
   "metadata": {},
   "outputs": [
    {
     "name": "stdout",
     "output_type": "stream",
     "text": [
      "System solution:\n",
      "x_1 = -1.346 + -1.0 t_1\n",
      "x_2 = 0.0 + 1.0 t_1\n",
      "x_3 = 0.585 + -0.0 t_1\n",
      "\n"
     ]
    }
   ],
   "source": [
    "p1 = Hyperplane(normal_vector=Vector([0.786,0.786,0.588]), constant_term=-0.714)\n",
    "p2 = Hyperplane(normal_vector=Vector([-0.131,-0.131,0.244]), constant_term=0.319)\n",
    "#p3 = Hyperplane(normal_vector=Vector([2.016,-9.924,-1.367]), constant_term=-9.278)\n",
    "#p4 = Hyperplane(normal_vector=Vector([2.167,-13.543,-18.883]), constant_term=-10.567)\n",
    "\n",
    "s = LinearSystem([p1,p2])\n",
    "\n",
    "print 'System solution:\\n{}'.format(s.compute_solution())"
   ]
  },
  {
   "cell_type": "code",
   "execution_count": 24,
   "metadata": {},
   "outputs": [
    {
     "name": "stdout",
     "output_type": "stream",
     "text": [
      "System solution:\n",
      "x_1 = 0.086 \n",
      "x_2 = -0.389 \n",
      "x_3 = -2.571 \n",
      "\n"
     ]
    }
   ],
   "source": [
    "p1 = Hyperplane(normal_vector=Vector([2.102,7.489,-0.786]), constant_term=-0.714)\n",
    "p2 = Hyperplane(normal_vector=Vector([-0.131,-8.318,1.209]), constant_term=0.1189)\n",
    "p3 = Hyperplane(normal_vector=Vector([9.015,-5.873,1.105]), constant_term=0.2216)\n",
    "#p4 = Hyperplane(normal_vector=Vector([2.167,-13.543,-18.883]), constant_term=-10.567)\n",
    "\n",
    "s = LinearSystem([p1,p2,p3])\n",
    "\n",
    "print 'System solution:\\n{}'.format(s.compute_solution())"
   ]
  },
  {
   "cell_type": "code",
   "execution_count": 25,
   "metadata": {},
   "outputs": [
    {
     "name": "stdout",
     "output_type": "stream",
     "text": [
      "System solution:\n",
      "x_1 = -0.563 + -2.364 t_1+ 5.237 t_2\n",
      "x_2 = -0.873 + -3.365 t_1+ 7.602 t_2\n",
      "x_3 = 0.051 + 0.418 t_1+ -0.213 t_2\n",
      "x_4 = 0.0 + 1.0 t_1+ 0.0 t_2\n",
      "x_5 = 0.0 + 0.0 t_1+ 1.0 t_2\n",
      "\n"
     ]
    }
   ],
   "source": [
    "p1 = Hyperplane(normal_vector=Vector([0.786,0.786,8.123,1.111,-8.363]), constant_term=-0.714)\n",
    "p2 = Hyperplane(normal_vector=Vector([-0.131,0.131,7.05,-2.813,1.19]), constant_term=0.3189)\n",
    "p3 = Hyperplane(normal_vector=Vector([9.015,-5.873,-1.105,2.013,-2.802]), constant_term=-0.0047)\n",
    "#p4 = Hyperplane(normal_vector=Vector([2.167,-13.543,-18.883]), constant_term=-10.567)\n",
    "\n",
    "s = LinearSystem([p1,p2,p3])\n",
    "\n",
    "print 'System solution:\\n{}'.format(s.compute_solution())"
   ]
  },
  {
   "cell_type": "code",
   "execution_count": null,
   "metadata": {
    "collapsed": true
   },
   "outputs": [],
   "source": []
  },
  {
   "cell_type": "code",
   "execution_count": null,
   "metadata": {
    "collapsed": true
   },
   "outputs": [],
   "source": []
  }
 ],
 "metadata": {
  "kernelspec": {
   "display_name": "Python [conda env:py2]",
   "language": "python",
   "name": "conda-env-py2-py"
  },
  "language_info": {
   "codemirror_mode": {
    "name": "ipython",
    "version": 2
   },
   "file_extension": ".py",
   "mimetype": "text/x-python",
   "name": "python",
   "nbconvert_exporter": "python",
   "pygments_lexer": "ipython2",
   "version": "2.7.13"
  }
 },
 "nbformat": 4,
 "nbformat_minor": 2
}
