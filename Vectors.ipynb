{
 "cells": [
  {
   "cell_type": "markdown",
   "metadata": {},
   "source": [
    "# Linear Algebra Refresher\n",
    "\n",
    "## Lesson 2 - Vectors"
   ]
  },
  {
   "cell_type": "code",
   "execution_count": 1,
   "metadata": {
    "collapsed": true
   },
   "outputs": [],
   "source": [
    "## NOTE - using Decimal to eliminate errors with floating point arithmatic.\n",
    "# BUT need to be careful -  function outputs as Decimal()\n",
    "\n",
    "from math import sqrt, acos, pi\n",
    "from decimal import Decimal, getcontext\n",
    "\n",
    "getcontext().prec = 30\n",
    "\n",
    "class Vector(object):\n",
    "    \n",
    "    CANNOT_NORMALIZE_ZERO_VECTOR_MSG = 'Cannot normalize the zero vector'\n",
    "    \n",
    "    def __init__(self, coordinates):\n",
    "        try:\n",
    "            if not coordinates:\n",
    "                raise ValueError\n",
    "            self.coordinates = tuple([Decimal(x) for x in coordinates])\n",
    "            self.dimension = len(self.coordinates)\n",
    "\n",
    "        except ValueError:\n",
    "            raise ValueError('The coordinates must be nonempty')\n",
    "\n",
    "        except TypeError:\n",
    "            raise TypeError('The coordinates must be an iterable')\n",
    "\n",
    "            \n",
    "##############################\n",
    "# Use list comprehensions to create functions for add, minus and *scalar\n",
    "##############################\n",
    "    def plus(self,v):\n",
    "        new_coordinates = [x+y for x,y in zip(self.coordinates, v.coordinates)]\n",
    "        return Vector(new_coordinates)\n",
    "\n",
    "    def minus (self,v):\n",
    "        new_coordinates = [x-y for x,y in zip(self.coordinates, v.coordinates)]\n",
    "        return Vector(new_coordinates)\n",
    "\n",
    "    def times_scalar (self, c):\n",
    "        c = Decimal(c)\n",
    "        new_coordinates = [(c*x) for x in self.coordinates]\n",
    "        return Vector(new_coordinates)\n",
    "\n",
    "###############################\n",
    "# Create functions for magnitude and normalisation \n",
    "###############################\n",
    "    def magnitude(self):\n",
    "        coordinates_squared = [x**2 for x in self.coordinates]\n",
    "        return Decimal(sqrt(sum(coordinates_squared)))\n",
    "\n",
    "    def normalized(self):\n",
    "        try:\n",
    "            magnitude = self.magnitude()\n",
    "            return self.times_scalar((Decimal('1.0'))/magnitude)\n",
    "\n",
    "        except ZeroDivisionError:\n",
    "            raise Exception(self.CANNOT_NORMALIZE_ZERO_VECTOR_MSG)\n",
    "            \n",
    "##############################\n",
    "# Dot product and angle\n",
    "##############################\n",
    "\n",
    "    def dot(self, v):\n",
    "        return Decimal(sum([x*y for x,y in zip(self.coordinates, v.coordinates)]))\n",
    "    \n",
    "    \n",
    "    def angle_with(self, v, in_degrees=False):\n",
    "        try:\n",
    "            u1 = self.normalized()\n",
    "            u2 = v.normalized()\n",
    "            angle_in_radians = acos(round(float(u1.dot(u2)),4))\n",
    "            \n",
    "            if in_degrees:\n",
    "                degrees_per_radian = 180./pi\n",
    "                return angle_in_radians * degrees_per_radian\n",
    "            else:\n",
    "                return angle_in_radians\n",
    "        \n",
    "        except Exception as e:\n",
    "            if str(e) == self.CANNOT_NORMALIZE_ZERO_VECTOR_MSG:\n",
    "                raise Exception('Cannot compute an angle with theb zero vector')\n",
    "\n",
    "#################################\n",
    "# Parallel and Orthogonal\n",
    "#################################\n",
    "\n",
    "    def is_orthogonal_to(self, v, tolerance=1e-10):\n",
    "        return abs(self.dot(v)) < tolerance\n",
    "    \n",
    "    def is_parallel_to(self,v):\n",
    "        return ( self.is_zero() or\n",
    "                 v.is_zero() or\n",
    "                 self.angle_with(v) == 0 or\n",
    "                 self.angle_with(v) == pi)\n",
    "    \n",
    "    def is_zero(self, tolerance=1e-10):\n",
    "        return self.magnitude() < tolerance\n",
    "\n",
    "    \n",
    "#################################\n",
    "# Vector Projections\n",
    "#################################\n",
    "    def component_parallel_to(self, basis):\n",
    "        try:\n",
    "            u = basis.normalized()\n",
    "            weight = self.dot(u)\n",
    "            return u.times_scalar(weight)\n",
    "        except Exception as e:\n",
    "            if str(e) == self.CANNOT_NORMALIZE_ZERO_VECTOR_MSG:\n",
    "                raise Exception(self.NO_UNIQUE_PARALLEL_COMPONENT_MSG)\n",
    "            else:\n",
    "                raise e\n",
    "    \n",
    "    \n",
    "    def component_orthogonal_to(self, basis):\n",
    "        try:\n",
    "            projection = self.component_parallel_to(basis)\n",
    "            return self.minus(projection)\n",
    "        \n",
    "        except Exception as e:\n",
    "            if str(e)==self.NO_UNIQUE_PARALLEL_COMPONENT_MSG:\n",
    "                raise Exception(self.NO_UNIQUE_PARALLEL_COMPONENT_MSG)\n",
    "            else:\n",
    "                raise e\n",
    "\n",
    "                \n",
    "#################################\n",
    "# Cross Products\n",
    "#################################                \n",
    "    def cross(self,v):\n",
    "        try:\n",
    "            x_1, y_1, z_1 = self.coordinates\n",
    "            x_2, y_2, z_2 = v.coordinates\n",
    "            new_coordinates = [y_1*z_2 - y_2*z_1,\n",
    "                              -(x_1*z_2 - x_2*z_1),\n",
    "                               x_1*y_2 - x_2*y_1]\n",
    "            return Vector(new_coordinates)\n",
    "        \n",
    "        except ValueError as e:\n",
    "                msg = str(e)\n",
    "                if msg == 'need more than 2 values to unpack':\n",
    "                    self_embedded_in_R3 = Vector(self.coordinates + ('0',))\n",
    "                    v_embedded_in_R3 = Vector(v.coordinates + ('0',))\n",
    "                    return self_embedded_in_R3.cross(v_embedded_in_R3)\n",
    "                elif (msg == 'too many values to unpack' or\n",
    "                      msg == 'need more than 1 value to unpack'):\n",
    "                    raise Exception(self.ONLY_DEFINED_IN_TWO_THREE_DIMS_MSG)\n",
    "                else:\n",
    "                    raise e\n",
    "    \n",
    "    \n",
    "    def area_of_triangle_with(self, v):\n",
    "        return self.area_of_parallelogram_with(v) / Decimal('2.0')\n",
    "    \n",
    "    \n",
    "    def area_of_parallelogram_with(self, v):\n",
    "        cross_product = self.cross(v)\n",
    "        return cross_product.magnitude()\n",
    "                \n",
    "                \n",
    "                \n",
    "#################################\n",
    "# from initial class definition\n",
    "##################################\n",
    "    def __str__(self):\n",
    "        return 'Vector: {}'.format(self.coordinates)\n",
    "\n",
    "\n",
    "    def __eq__(self, v):\n",
    "        return self.coordinates == v.coordinates\n",
    "    \n",
    "    \n",
    "    def __iter__(self):\n",
    "            return iter(self.coordinates)\n",
    "        \n",
    "\n",
    "    def __getitem__(self,index):\n",
    "            return self.coordinates[index]"
   ]
  },
  {
   "cell_type": "code",
   "execution_count": 2,
   "metadata": {
    "collapsed": true
   },
   "outputs": [],
   "source": [
    "my_vector = Vector([1,2,3])\n",
    "my_vector_2 = Vector([1,2,3])\n",
    "my_vector_3 = Vector([-1,2,3])\n",
    "\n",
    "my_vector_4 = Vector([1,2,3,4,5,6,7])"
   ]
  },
  {
   "cell_type": "code",
   "execution_count": 3,
   "metadata": {},
   "outputs": [
    {
     "name": "stdout",
     "output_type": "stream",
     "text": [
      "Vector: (Decimal('1'), Decimal('2'), Decimal('3'))\n",
      "(Decimal('1'), Decimal('2'), Decimal('3'))\n",
      "3\n",
      "7\n"
     ]
    }
   ],
   "source": [
    "print(my_vector)\n",
    "print(my_vector.coordinates)\n",
    "print(my_vector.dimension)\n",
    "\n",
    "print(my_vector_4.dimension)"
   ]
  },
  {
   "cell_type": "code",
   "execution_count": 4,
   "metadata": {},
   "outputs": [
    {
     "name": "stdout",
     "output_type": "stream",
     "text": [
      "True\n",
      "False\n"
     ]
    }
   ],
   "source": [
    "print(my_vector == my_vector_2)\n",
    "\n",
    "print(my_vector == my_vector_3)"
   ]
  },
  {
   "cell_type": "markdown",
   "metadata": {},
   "source": [
    "## Plus, Minus, Scalar multiply"
   ]
  },
  {
   "cell_type": "markdown",
   "metadata": {},
   "source": [
    "###### Use list comprehensions to create functions for add, minus and *scalar\n",
    "\n",
    "```\n",
    "def plus(self,v):\n",
    "    new_coordinates = [x+y for x,y in zip(self.coordinates, v.coordinates)]\n",
    "    return Vector(new_coordinates)\n",
    "\n",
    "def minus (self,v):\n",
    "    new_coordinates = [x-y for x,y in zip(self.coordinates, v.coordinates)]\n",
    "    return Vector(new_coordinates)\n",
    "\n",
    "def times_scalar (self, c):\n",
    "    new_coordinates = [c*x for x in self.coordinates]\n",
    "    return Vector(new_coordinates)\n",
    "```  \n",
    "    \n"
   ]
  },
  {
   "cell_type": "code",
   "execution_count": null,
   "metadata": {
    "collapsed": true
   },
   "outputs": [],
   "source": []
  },
  {
   "cell_type": "code",
   "execution_count": 5,
   "metadata": {},
   "outputs": [
    {
     "name": "stdout",
     "output_type": "stream",
     "text": [
      "Vector: (Decimal('7.08899999999999996802557689080'), Decimal('-7.22999999999999909405801190587'))\n"
     ]
    }
   ],
   "source": [
    "vector_1 = Vector([8.218, -9.341])\n",
    "vector_2 = Vector([-1.129, 2.111])\n",
    "\n",
    "print(vector_1.plus(vector_2))"
   ]
  },
  {
   "cell_type": "code",
   "execution_count": 6,
   "metadata": {},
   "outputs": [
    {
     "name": "stdout",
     "output_type": "stream",
     "text": [
      "Vector: (Decimal('15.3420000000000005258016244625'), Decimal('7.33699999999999985522691758888'))\n"
     ]
    }
   ],
   "source": [
    "vector3 = Vector([7.119, 8.215])\n",
    "vector4 = Vector([-8.223, 0.878])\n",
    "\n",
    "print(vector3.minus(vector4))"
   ]
  },
  {
   "cell_type": "code",
   "execution_count": 7,
   "metadata": {},
   "outputs": [
    {
     "name": "stdout",
     "output_type": "stream",
     "text": [
      "Vector: (Decimal('12.3821100000000002374633822910'), Decimal('-7.49892000000000014381384971784'), Decimal('-2.35638000000000004519051799434'))\n"
     ]
    }
   ],
   "source": [
    "vector5=Vector(['1.671', '-1.012', '-0.318'])\n",
    "scalar = 7.41\n",
    "\n",
    "print(vector5.times_scalar(scalar))"
   ]
  },
  {
   "cell_type": "code",
   "execution_count": 8,
   "metadata": {},
   "outputs": [
    {
     "name": "stdout",
     "output_type": "stream",
     "text": [
      "Vector: (Decimal('5.58100000000000040500935938325710594654083251953125'), Decimal('-2.13600000000000012079226507921703159809112548828125'))\n"
     ]
    }
   ],
   "source": [
    "v3 = Vector([5.581, -2.136])\n",
    "\n",
    "print  v3"
   ]
  },
  {
   "cell_type": "markdown",
   "metadata": {},
   "source": [
    "## Magnitude and direction"
   ]
  },
  {
   "cell_type": "markdown",
   "metadata": {},
   "source": [
    "###### magnitude and normalised unit vector\n",
    "\n",
    "```\n",
    "from math import sqrt\n",
    "\n",
    "def magnitude(self):\n",
    "    coordinates_squared = [x**2 for x in self.coordinates]\n",
    "    return sqrt(sum(coordinates_squared))\n",
    "\n",
    "def normalized(self):\n",
    "    try:\n",
    "        magnitude = self.magnitude()\n",
    "        return self.times_scalar(1./magnitude)\n",
    "    \n",
    "    except ZeroDivisionError:\n",
    "        raise('Cannot normalise the zero vector')\n",
    "    ```"
   ]
  },
  {
   "cell_type": "code",
   "execution_count": 9,
   "metadata": {},
   "outputs": [
    {
     "name": "stdout",
     "output_type": "stream",
     "text": [
      "7.4402829247280646285389593685977160930633544921875\n",
      "10.8841875672922885343041343730874359607696533203125\n"
     ]
    }
   ],
   "source": [
    "vector1 = Vector([-0.221, 7.437])\n",
    "vector2 = Vector([8.813, -1.331, -6.247])\n",
    "\n",
    "print(vector1.magnitude())\n",
    "print(vector2.magnitude())\n",
    "\n"
   ]
  },
  {
   "cell_type": "code",
   "execution_count": 10,
   "metadata": {},
   "outputs": [
    {
     "name": "stdout",
     "output_type": "stream",
     "text": [
      "Vector: (Decimal('0.933935214086640295130539147343'), Decimal('-0.357442325262329983594964055642'))\n",
      "Vector: (Decimal('0.340401295943301353537171045562'), Decimal('0.530043701298487295255023200306'), Decimal('-0.776647044952802835008995686630'))\n"
     ]
    }
   ],
   "source": [
    "vector3 = Vector([5.581, -2.136])\n",
    "vector4 = Vector([1.996, 3.108, -4.554])\n",
    "\n",
    "print(vector3.normalized())\n",
    "print(vector4.normalized())"
   ]
  },
  {
   "cell_type": "code",
   "execution_count": null,
   "metadata": {
    "collapsed": true
   },
   "outputs": [],
   "source": []
  },
  {
   "cell_type": "markdown",
   "metadata": {},
   "source": [
    "## Inner Products (Dot Products)"
   ]
  },
  {
   "cell_type": "code",
   "execution_count": 11,
   "metadata": {},
   "outputs": [
    {
     "name": "stdout",
     "output_type": "stream",
     "text": [
      "-41.382286\n"
     ]
    }
   ],
   "source": [
    "v = Vector(['7.887', '4.138'])\n",
    "w = Vector (['-8.802', '6.776'])\n",
    "print (v.dot(w))"
   ]
  },
  {
   "cell_type": "code",
   "execution_count": 12,
   "metadata": {},
   "outputs": [
    {
     "name": "stdout",
     "output_type": "stream",
     "text": [
      "56.397178\n"
     ]
    }
   ],
   "source": [
    "v = Vector(['-5.955', '-4.904', '-1.874'])\n",
    "w = Vector (['-4.496', '-8.755', '7.103'])\n",
    "print (v.dot(w))\n"
   ]
  },
  {
   "cell_type": "code",
   "execution_count": 13,
   "metadata": {},
   "outputs": [
    {
     "name": "stdout",
     "output_type": "stream",
     "text": [
      "3.07229675739\n"
     ]
    }
   ],
   "source": [
    "v = Vector(['3.183', '-7.627'])\n",
    "w = Vector(['-2.668', '5.319'])\n",
    "print(v.angle_with(w))"
   ]
  },
  {
   "cell_type": "code",
   "execution_count": 14,
   "metadata": {},
   "outputs": [
    {
     "name": "stdout",
     "output_type": "stream",
     "text": [
      "60.2774829135\n"
     ]
    }
   ],
   "source": [
    "v = Vector(['7.35', '0.221', '5.188'])\n",
    "w = Vector(['2.751', '8.259', '3.985'])\n",
    "print(v.angle_with(w, in_degrees=True))"
   ]
  },
  {
   "cell_type": "code",
   "execution_count": 15,
   "metadata": {},
   "outputs": [
    {
     "name": "stdout",
     "output_type": "stream",
     "text": [
      "60.2774829135\n"
     ]
    }
   ],
   "source": [
    "v = Vector([7.35, 0.221, 5.188])\n",
    "w = Vector([2.751, 8.259, 3.985])\n",
    "print(v.angle_with(w, in_degrees=True))"
   ]
  },
  {
   "cell_type": "markdown",
   "metadata": {},
   "source": [
    "## Parallel and Orthogonal Vectors"
   ]
  },
  {
   "cell_type": "code",
   "execution_count": 16,
   "metadata": {},
   "outputs": [
    {
     "name": "stdout",
     "output_type": "stream",
     "text": [
      "180.0\n",
      "('Parallel?', True)\n",
      "('Orthogonal?', False)\n"
     ]
    }
   ],
   "source": [
    "v = Vector([-7.579, -7.88])\n",
    "w = Vector([22.737, 23.64])\n",
    "\n",
    "print(v.angle_with(w, in_degrees = True))\n",
    "print('Parallel?',v.is_parallel_to(w))\n",
    "print('Orthogonal?', v.is_orthogonal_to(w))"
   ]
  },
  {
   "cell_type": "code",
   "execution_count": 17,
   "metadata": {},
   "outputs": [
    {
     "name": "stdout",
     "output_type": "stream",
     "text": [
      "121.600948112\n",
      "('Parallel?', False)\n",
      "('Orthogonal?', False)\n"
     ]
    }
   ],
   "source": [
    "v = Vector([-2.029, 9.97, 4.172])\n",
    "w = Vector([-9.231, -6.639, -7.245])\n",
    "\n",
    "print(v.angle_with(w, in_degrees = True))\n",
    "print('Parallel?',v.is_parallel_to(w))\n",
    "print('Orthogonal?', v.is_orthogonal_to(w))"
   ]
  },
  {
   "cell_type": "code",
   "execution_count": 18,
   "metadata": {},
   "outputs": [
    {
     "name": "stdout",
     "output_type": "stream",
     "text": [
      "-0.0\n",
      "90.0\n",
      "('Parallel?', False)\n",
      "('Orthogonal?', True)\n"
     ]
    }
   ],
   "source": [
    "\n",
    "v = Vector([-2.328, -7.284, -1.214])\n",
    "w = Vector([-1.821, 1.072, -2.94])\n",
    "\n",
    "print(round(v.dot(w),4))\n",
    "print(v.angle_with(w, in_degrees = True))\n",
    "print('Parallel?',v.is_parallel_to(w))\n",
    "print('Orthogonal?', v.is_orthogonal_to(w))"
   ]
  },
  {
   "cell_type": "code",
   "execution_count": 19,
   "metadata": {},
   "outputs": [
    {
     "name": "stdout",
     "output_type": "stream",
     "text": [
      "('Parallel?', True)\n",
      "('Orthogonal?', True)\n"
     ]
    }
   ],
   "source": [
    "v = Vector([2.118, 4.827])\n",
    "w = Vector([0,0])\n",
    "\n",
    "#print(v.angle_with(w, in_degrees = True))\n",
    "print('Parallel?',v.is_parallel_to(w))\n",
    "print('Orthogonal?', v.is_orthogonal_to(w))"
   ]
  },
  {
   "cell_type": "code",
   "execution_count": 20,
   "metadata": {},
   "outputs": [
    {
     "name": "stdout",
     "output_type": "stream",
     "text": [
      "-0.0\n",
      "90.0\n"
     ]
    }
   ],
   "source": [
    "import numpy as np\n",
    "\n",
    "v = np.array([-2.328, -7.284, -1.214],)\n",
    "w = np.array([-1.821, 1.072, -2.94],)\n",
    "\n",
    "#NOTE numpy.dot is dot product.\n",
    "# np.arccos(dot.product) is angle in radians\n",
    "# np.degrees converts radians to degrees\n",
    "print(round(np.dot(v,w),4))\n",
    "print(np.degrees(np.arccos(np.dot(v,w))))\n"
   ]
  },
  {
   "cell_type": "code",
   "execution_count": 21,
   "metadata": {},
   "outputs": [
    {
     "name": "stdout",
     "output_type": "stream",
     "text": [
      "2\n",
      "1.73205080757\n",
      "[ 0.57735027  0.57735027  0.57735027]\n",
      "('Angle in radians', 0.61547970867038748)\n",
      "('Angle in degress', 35.264389682754661)\n"
     ]
    }
   ],
   "source": [
    "v = np.array([1,1,1])\n",
    "w = np.array([1,1,0])\n",
    "\n",
    "print(np.dot(v,w))\n",
    "print(np.linalg.norm(v))\n",
    "print(v/np.linalg.norm(v))\n",
    "\n",
    "c = np.dot(v,w)/(np.linalg.norm(v) * np.linalg.norm(w))\n",
    "angle = np.arccos(c)\n",
    "print('Angle in radians',angle)\n",
    "angle_deg = np.rad2deg(angle)\n",
    "print('Angle in degress',angle_deg)"
   ]
  },
  {
   "cell_type": "code",
   "execution_count": 22,
   "metadata": {},
   "outputs": [
    {
     "data": {
      "text/plain": [
       "Decimal('47')"
      ]
     },
     "execution_count": 22,
     "metadata": {},
     "output_type": "execute_result"
    }
   ],
   "source": [
    "v = Vector([2,3,4])\n",
    "w = Vector([4,5,6])\n",
    "\n",
    "v.dot(w)"
   ]
  },
  {
   "cell_type": "markdown",
   "metadata": {
    "collapsed": true
   },
   "source": [
    "## Projecting Vectors"
   ]
  },
  {
   "cell_type": "code",
   "execution_count": 23,
   "metadata": {},
   "outputs": [
    {
     "name": "stdout",
     "output_type": "stream",
     "text": [
      "Vector: (Decimal('1.08260696248446669921320880516'), Decimal('2.67174275832530224589459303452'))\n"
     ]
    }
   ],
   "source": [
    "v = Vector([3.039, 1.879])\n",
    "b = Vector([0.825, 2.036])\n",
    "\n",
    "print(v.component_parallel_to(b))"
   ]
  },
  {
   "cell_type": "code",
   "execution_count": 24,
   "metadata": {},
   "outputs": [
    {
     "name": "stdout",
     "output_type": "stream",
     "text": [
      "Vector: (Decimal('-8.35008104319576298139037182171'), Decimal('3.37606125428772042918826614535'), Decimal('-1.43374604278118531453872963265'))\n"
     ]
    }
   ],
   "source": [
    "v = Vector([-9.88, -3.264, -8.159])\n",
    "b = Vector([-2.155, -9.353, -9.473])\n",
    "\n",
    "print(v.component_orthogonal_to(b))"
   ]
  },
  {
   "cell_type": "code",
   "execution_count": 25,
   "metadata": {},
   "outputs": [
    {
     "name": "stdout",
     "output_type": "stream",
     "text": [
      "('parallel component', <__main__.Vector object at 0x1032c4b10>)\n",
      "('orthogonal component', <__main__.Vector object at 0x1032c4b10>)\n"
     ]
    }
   ],
   "source": [
    "v = Vector([3.009, -6.172, 3.692, -2.51])\n",
    "b = Vector([6.404, -9.144, 2.759, 8.718])\n",
    "\n",
    "print('parallel component',v.component_parallel_to(b))\n",
    "print('orthogonal component',v.component_orthogonal_to(b))"
   ]
  },
  {
   "cell_type": "code",
   "execution_count": 26,
   "metadata": {},
   "outputs": [
    {
     "name": "stdout",
     "output_type": "stream",
     "text": [
      "('normalized bv', <__main__.Vector object at 0x1089da190>)\n",
      "('vv dot normalized bv', Decimal('2.88274993745269854721460324839'))\n",
      "('vv parallel projection to bv', <__main__.Vector object at 0x1089da1d0>)\n",
      "('vv orthogonal projection to bv', <__main__.Vector object at 0x1089da250>)\n",
      "\n",
      "\n",
      "NOW IN NUMPY\n",
      "('normalised unit basis vector', array([ 0.37554661,  0.92680351]))\n",
      "('v dot normalized b', 2.8827499374526986)\n",
      "('projection of v parallel to b', array([ 1.08260696,  2.67174276]))\n",
      "('projection orthogonal to b', array([ 1.95639304, -0.79274276]))\n"
     ]
    }
   ],
   "source": [
    "## Implementing with numpy\n",
    "\n",
    "v = np.array([3.039, 1.879])\n",
    "b = np.array([0.825, 2.036])\n",
    "\n",
    "vv = Vector([3.039, 1.879])\n",
    "bv = Vector([0.825, 2.036])\n",
    "\n",
    "print('normalized bv',bv.normalized())\n",
    "print('vv dot normalized bv', vv.dot(bv.normalized()))\n",
    "print('vv parallel projection to bv', vv.component_parallel_to(bv))\n",
    "print('vv orthogonal projection to bv', vv.component_orthogonal_to(bv))\n",
    "\n",
    "print('\\n\\nNOW IN NUMPY')\n",
    "b_unit = b/np.linalg.norm(b)\n",
    "print('normalised unit basis vector',b_unit)\n",
    "\n",
    "print ('v dot normalized b', np.dot(v, b_unit))\n",
    "\n",
    "projv = b_unit*np.dot(v, b_unit)\n",
    "print('projection of v parallel to b',projv )\n",
    "\n",
    "print ('projection orthogonal to b', v-projv)"
   ]
  },
  {
   "cell_type": "code",
   "execution_count": null,
   "metadata": {
    "collapsed": true
   },
   "outputs": [],
   "source": []
  },
  {
   "cell_type": "markdown",
   "metadata": {},
   "source": [
    "## Cross Product\n"
   ]
  },
  {
   "cell_type": "code",
   "execution_count": 27,
   "metadata": {},
   "outputs": [
    {
     "name": "stdout",
     "output_type": "stream",
     "text": [
      "('v x w = ', <__main__.Vector object at 0x1032c4c50>)\n",
      "10.3588689054355729268763752770610153675079345703125\n",
      "('area of parallelogram =', Decimal('144.300032696633223849858040921390056610107421875'))\n"
     ]
    }
   ],
   "source": [
    "\n",
    "v = Vector([8.462, 7.893, -8.187])\n",
    "w = Vector([6.984, -5.975, 4.778])\n",
    "\n",
    "print('v x w = ' , v.cross(w))\n",
    "print(w.magnitude())\n",
    "\n",
    "print('area of parallelogram =', v.area_of_parallelogram_with(w))\n"
   ]
  },
  {
   "cell_type": "code",
   "execution_count": 28,
   "metadata": {},
   "outputs": [
    {
     "name": "stdout",
     "output_type": "stream",
     "text": [
      "('area of parallelogram =', Decimal('142.1222214018463319007423706352710723876953125'))\n"
     ]
    }
   ],
   "source": [
    "\n",
    "v = Vector([-8.987, -9.838, 5.031])\n",
    "w = Vector([-4.268, -1.861, -8.866])\n",
    "\n",
    "print('area of parallelogram =', v.area_of_parallelogram_with(w))\n"
   ]
  },
  {
   "cell_type": "code",
   "execution_count": 29,
   "metadata": {},
   "outputs": [
    {
     "name": "stdout",
     "output_type": "stream",
     "text": [
      "('area of triangle =', Decimal('42.5649373994189375025598565117'))\n",
      "('vector cross=', <__main__.Vector object at 0x1032c4750>)\n",
      "('area of triangle =', Decimal('42.5649373994189375025598565117'))\n"
     ]
    }
   ],
   "source": [
    "\n",
    "v = Vector([1.5,9.547,3.691])\n",
    "w = Vector([-6.007,0.124,5.772])\n",
    "\n",
    "print('area of triangle =', v.area_of_triangle_with(w))\n",
    "\n",
    "print('vector cross=', Vector.cross(v,w))\n",
    "\n",
    "print('area of triangle =', Vector.area_of_triangle_with(v,w)) \n"
   ]
  },
  {
   "cell_type": "code",
   "execution_count": 30,
   "metadata": {},
   "outputs": [
    {
     "name": "stdout",
     "output_type": "stream",
     "text": [
      "('cross product=', array([ -11.204571,  -97.609444, -105.685162]))\n",
      "('area of parallelogram = ', 144.30003269663322)\n"
     ]
    }
   ],
   "source": [
    "# In numpy ...\n",
    "\n",
    "v = np.array([8.462, 7.893, -8.187])\n",
    "w = np.array([6.984, -5.975, 4.778])\n",
    "\n",
    "print('cross product=',np.cross(v,w))\n",
    "\n",
    "print('area of parallelogram = ', np.linalg.norm(np.cross(v,w)))\n"
   ]
  },
  {
   "cell_type": "code",
   "execution_count": null,
   "metadata": {
    "collapsed": true
   },
   "outputs": [],
   "source": []
  },
  {
   "cell_type": "code",
   "execution_count": null,
   "metadata": {
    "collapsed": true
   },
   "outputs": [],
   "source": []
  },
  {
   "cell_type": "code",
   "execution_count": null,
   "metadata": {
    "collapsed": true
   },
   "outputs": [],
   "source": []
  },
  {
   "cell_type": "code",
   "execution_count": null,
   "metadata": {
    "collapsed": true
   },
   "outputs": [],
   "source": []
  }
 ],
 "metadata": {
  "kernelspec": {
   "display_name": "Python [conda env:py2]",
   "language": "python",
   "name": "conda-env-py2-py"
  },
  "language_info": {
   "codemirror_mode": {
    "name": "ipython",
    "version": 2
   },
   "file_extension": ".py",
   "mimetype": "text/x-python",
   "name": "python",
   "nbconvert_exporter": "python",
   "pygments_lexer": "ipython2",
   "version": "2.7.13"
  }
 },
 "nbformat": 4,
 "nbformat_minor": 2
}
