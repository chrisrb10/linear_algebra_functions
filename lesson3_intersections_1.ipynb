{
 "cells": [
  {
   "cell_type": "markdown",
   "metadata": {},
   "source": [
    "### Linear Algebra Refresher\n",
    "\n",
    "## Lesson 3 - Intersections Pt1"
   ]
  },
  {
   "cell_type": "code",
   "execution_count": null,
   "metadata": {
    "collapsed": true
   },
   "outputs": [],
   "source": []
  },
  {
   "cell_type": "code",
   "execution_count": 1,
   "metadata": {
    "collapsed": true
   },
   "outputs": [],
   "source": [
    "import numpy as np"
   ]
  },
  {
   "cell_type": "code",
   "execution_count": 2,
   "metadata": {},
   "outputs": [],
   "source": [
    "######### NOTE ###############\n",
    "# Line class code 'stub' downloaded from lesson 3 - Intersections\n",
    "# Vector class imported from vector.py in folder (same code as created in notebook for lesson 2)\n",
    "#############################\n",
    "\n",
    "\n",
    "from decimal import Decimal, getcontext\n",
    "\n",
    "from vector import Vector\n",
    "\n",
    "getcontext().prec = 30\n",
    "\n",
    "\n",
    "class Line(object):\n",
    "\n",
    "    NO_NONZERO_ELTS_FOUND_MSG = 'No nonzero elements found'\n",
    "\n",
    "    def __init__(self, normal_vector=None, constant_term=None):\n",
    "        self.dimension = 2\n",
    "\n",
    "        if not normal_vector:\n",
    "            # creates zero vector of same dimension (2) as self\n",
    "            all_zeros = ['0']*self.dimension\n",
    "            # uses Vector class to convert into a 'Vector' object\n",
    "            normal_vector = Vector(all_zeros)\n",
    "        # otherwise sets self.normal_vector as input normal_vector\n",
    "        self.normal_vector = normal_vector\n",
    "\n",
    "        if not constant_term:\n",
    "            constant_term = Decimal('0')\n",
    "        self.constant_term = Decimal(constant_term)\n",
    "\n",
    "        self.set_basepoint()\n",
    "\n",
    "    # set basepoint selects a variable with non-zero co-efficient (in normal vector)\n",
    "    # and setting other variable to zero\n",
    "    def set_basepoint(self):\n",
    "        try:\n",
    "            n = self.normal_vector.coordinates\n",
    "            c = self.constant_term\n",
    "            basepoint_coords = ['0']*self.dimension\n",
    "\n",
    "            initial_index = Line.first_nonzero_index(n)\n",
    "            initial_coefficient = n[initial_index]\n",
    "\n",
    "            basepoint_coords[initial_index] = c/initial_coefficient\n",
    "            self.basepoint = Vector(basepoint_coords)\n",
    "\n",
    "        except Exception as e:\n",
    "            if str(e) == Line.NO_NONZERO_ELTS_FOUND_MSG:\n",
    "                self.basepoint = None\n",
    "            else:\n",
    "                raise e\n",
    "\n",
    "\n",
    "    def __str__(self):\n",
    "\n",
    "        num_decimal_places = 3\n",
    "\n",
    "        def write_coefficient(coefficient, is_initial_term=False):\n",
    "            coefficient = round(coefficient, num_decimal_places)\n",
    "            if coefficient % 1 == 0:\n",
    "                coefficient = int(coefficient)\n",
    "\n",
    "            output = ''\n",
    "\n",
    "            if coefficient < 0:\n",
    "                output += '-'\n",
    "            if coefficient > 0 and not is_initial_term:\n",
    "                output += '+'\n",
    "\n",
    "            if not is_initial_term:\n",
    "                output += ' '\n",
    "\n",
    "            if abs(coefficient) != 1:\n",
    "                output += '{}'.format(abs(coefficient))\n",
    "\n",
    "            return output\n",
    "\n",
    "        n = self.normal_vector.coordinates\n",
    "\n",
    "        try:\n",
    "            initial_index = Line.first_nonzero_index(n)\n",
    "            terms = [write_coefficient(n[i], is_initial_term=(i==initial_index)) + 'x_{}'.format(i+1)\n",
    "                     for i in range(self.dimension) if round(n[i], num_decimal_places) != 0]\n",
    "            output = ' '.join(terms)\n",
    "\n",
    "        except Exception as e:\n",
    "            if str(e) == self.NO_NONZERO_ELTS_FOUND_MSG:\n",
    "                output = '0'\n",
    "            else:\n",
    "                raise e\n",
    "\n",
    "        constant = round(self.constant_term, num_decimal_places)\n",
    "        if constant % 1 == 0:\n",
    "            constant = int(constant)\n",
    "        output += ' = {}'.format(constant)\n",
    "\n",
    "        return output\n",
    "\n",
    "    @staticmethod\n",
    "    # scans for first non_zero value in an iterable\n",
    "    def first_nonzero_index(iterable):\n",
    "        for k, item in enumerate(iterable):\n",
    "            if not MyDecimal(item).is_near_zero():\n",
    "                return k\n",
    "        raise Exception(Line.NO_NONZERO_ELTS_FOUND_MSG)\n",
    "\n",
    "###################################################\n",
    "# Coding functions for lines - quiz\n",
    "###################################################\n",
    "    \n",
    "    # tests if lines are parallel\n",
    "    def is_parallel_to(self, ell):\n",
    "        n1 = self.normal_vector\n",
    "        n2 = ell.normal_vector\n",
    "        # uses is_parallel_to function from Vector class\n",
    "        return n1.is_parallel_to(n2)\n",
    "    \n",
    "    # tests if lines are equal\n",
    "    def __eq__(self,ell):\n",
    "        \n",
    "        # handls special case if normal vector is zero vector\n",
    "        if self.normal_vector.is_zero():\n",
    "            if not ell.normal_vector.is_zero():\n",
    "                return False\n",
    "            else:\n",
    "                diff = self.constant_term - ell.constant_term\n",
    "                return MyDecimal(diff).is_near_zero()\n",
    "        elif ell.normal_vector.is_zero():\n",
    "                return False\n",
    "        \n",
    "        \n",
    "        # automatically false if not parallel\n",
    "        if not self.is_parallel_to(ell):\n",
    "            return False\n",
    "        \n",
    "        #sets a basepoint for each line and uses Vector.minus to get vector between them\n",
    "        x0 = self.basepoint\n",
    "        y0 = ell.basepoint\n",
    "        basepoint_difference = x0.minus(y0)\n",
    "        \n",
    "        # tests if vector betwen basepoints is orthogonal to the normal vector of n\n",
    "        # is it is, they are the same line\n",
    "        n = self.normal_vector\n",
    "        return basepoint_difference.is_orthogonal_to(n)\n",
    "\n",
    "    \n",
    "    \n",
    "    \n",
    "    # calculates intersection of two lines\n",
    "    def intersection_with(self,ell):\n",
    "        \n",
    "        if self.is_parallel_to(ell):\n",
    "            if self == ell:\n",
    "                return 'These are the same line', str(self)\n",
    "            else:\n",
    "                return 'These lines are parallel - with no intersection'\n",
    "        \n",
    "        \n",
    "        try:\n",
    "            A,B = self.normal_vector.coordinates\n",
    "            C,D = ell.normal_vector.coordinates\n",
    "            k1 = self.constant_term\n",
    "            k2 = ell.constant_term\n",
    "            \n",
    "            x_numerator = D*k1 - B*k2\n",
    "            y_numerator = -C*k1 + A*k2\n",
    "            one_over_denom = Decimal('1')/(A*D - B*C)\n",
    "            \n",
    "            return Vector([x_numerator, y_numerator]).times_scalar(one_over_denom)\n",
    "        \n",
    "        except ZeroDivisionError:\n",
    "            if self == ell:\n",
    "                return self\n",
    "            else:\n",
    "                return None\n",
    "    \n",
    "  \n",
    "    \n",
    "##########################################################################        \n",
    "# deals with floating point arithmatic non-zero issue\n",
    "class MyDecimal(Decimal):\n",
    "    def is_near_zero(self, eps=1e-10):\n",
    "        return abs(self) < eps"
   ]
  },
  {
   "cell_type": "code",
   "execution_count": 3,
   "metadata": {},
   "outputs": [
    {
     "name": "stdout",
     "output_type": "stream",
     "text": [
      "60.2774829135\n"
     ]
    }
   ],
   "source": [
    "v = Vector([7.35, 0.221, 5.188])\n",
    "w = Vector([2.751, 8.259, 3.985])\n",
    "print(v.angle_with(w, in_degrees=True))"
   ]
  },
  {
   "cell_type": "code",
   "execution_count": 4,
   "metadata": {},
   "outputs": [
    {
     "data": {
      "text/plain": [
       "['text', 'text']"
      ]
     },
     "execution_count": 4,
     "metadata": {},
     "output_type": "execute_result"
    }
   ],
   "source": [
    "['text']*2"
   ]
  },
  {
   "cell_type": "code",
   "execution_count": 5,
   "metadata": {},
   "outputs": [],
   "source": [
    "v=Vector(['2','3'])\n",
    "w=(2,-3)\n",
    "\n",
    "l = Line(v,6)"
   ]
  },
  {
   "cell_type": "code",
   "execution_count": null,
   "metadata": {},
   "outputs": [],
   "source": []
  },
  {
   "cell_type": "code",
   "execution_count": null,
   "metadata": {
    "collapsed": true
   },
   "outputs": [],
   "source": []
  },
  {
   "cell_type": "code",
   "execution_count": null,
   "metadata": {
    "collapsed": true
   },
   "outputs": [],
   "source": []
  },
  {
   "cell_type": "code",
   "execution_count": null,
   "metadata": {
    "collapsed": true
   },
   "outputs": [],
   "source": []
  },
  {
   "cell_type": "code",
   "execution_count": null,
   "metadata": {
    "collapsed": true
   },
   "outputs": [],
   "source": []
  },
  {
   "cell_type": "markdown",
   "metadata": {},
   "source": [
    "### Quiz 4: Coding functions for lines"
   ]
  },
  {
   "cell_type": "code",
   "execution_count": 6,
   "metadata": {},
   "outputs": [
    {
     "name": "stdout",
     "output_type": "stream",
     "text": [
      "intersection1: ('These are the same line', '4.046x_1 + 2.836x_2 = 1.21')\n"
     ]
    }
   ],
   "source": [
    "ell1 = Line(normal_vector = Vector([4.046, 2.836]), constant_term=1.21)\n",
    "ell2 = Line(normal_vector = Vector([10.115, 7.09]), constant_term=3.025)\n",
    "\n",
    "print 'intersection1:', ell1.intersection_with(ell2)"
   ]
  },
  {
   "cell_type": "code",
   "execution_count": 7,
   "metadata": {},
   "outputs": [
    {
     "name": "stdout",
     "output_type": "stream",
     "text": [
      "intersection1: Vector: (Decimal('1.17277663546464155833736023125'), Decimal('0.0726955116633319428771277112348'))\n"
     ]
    }
   ],
   "source": [
    "ell1 = Line(normal_vector = Vector([7.204, 3.182]), constant_term=8.68)\n",
    "ell2 = Line(normal_vector = Vector([8.172, 4.114]), constant_term=9.883)\n",
    "\n",
    "print 'intersection1:', ell1.intersection_with(ell2)\n",
    "\n"
   ]
  },
  {
   "cell_type": "code",
   "execution_count": 8,
   "metadata": {},
   "outputs": [
    {
     "name": "stdout",
     "output_type": "stream",
     "text": [
      "intersection1: These lines are parallel - with no intersection\n"
     ]
    },
    {
     "data": {
      "text/plain": [
       "True"
      ]
     },
     "execution_count": 8,
     "metadata": {},
     "output_type": "execute_result"
    }
   ],
   "source": [
    "ell1 = Line(normal_vector = Vector([1.182, 5.562]), constant_term=6.744)\n",
    "ell2 = Line(normal_vector = Vector([1.773, 8.343]), constant_term=9.8525)\n",
    "\n",
    "print'intersection1:', ell1.intersection_with(ell2)\n",
    "\n",
    "ell1.is_parallel_to(ell2)"
   ]
  },
  {
   "cell_type": "markdown",
   "metadata": {},
   "source": [
    "# Planes Class"
   ]
  },
  {
   "cell_type": "code",
   "execution_count": 9,
   "metadata": {
    "collapsed": true
   },
   "outputs": [],
   "source": [
    "####### PLANES CLASS ################\n",
    "\n",
    "\n",
    "from decimal import Decimal, getcontext\n",
    "\n",
    "from vector import Vector\n",
    "\n",
    "getcontext().prec = 30\n",
    "\n",
    "\n",
    "class Plane(object):\n",
    "\n",
    "    NO_NONZERO_ELTS_FOUND_MSG = 'No nonzero elements found'\n",
    "\n",
    "    def __init__(self, normal_vector=None, constant_term=None):\n",
    "        self.dimension = 3\n",
    "\n",
    "        if not normal_vector:\n",
    "            all_zeros = ['0']*self.dimension\n",
    "            normal_vector = Vector(all_zeros)\n",
    "        self.normal_vector = normal_vector\n",
    "\n",
    "        if not constant_term:\n",
    "            constant_term = Decimal('0')\n",
    "        self.constant_term = Decimal(constant_term)\n",
    "\n",
    "        self.set_basepoint()\n",
    "\n",
    "\n",
    "    def set_basepoint(self):\n",
    "        try:\n",
    "            n = self.normal_vector.coordinates\n",
    "            c = self.constant_term\n",
    "            basepoint_coords = ['0']*self.dimension\n",
    "\n",
    "            initial_index = Plane.first_nonzero_index(n)\n",
    "            initial_coefficient = n[initial_index]\n",
    "\n",
    "            basepoint_coords[initial_index] = c/initial_coefficient\n",
    "            self.basepoint = Vector(basepoint_coords)\n",
    "\n",
    "        except Exception as e:\n",
    "            if str(e) == Plane.NO_NONZERO_ELTS_FOUND_MSG:\n",
    "                self.basepoint = None\n",
    "            else:\n",
    "                raise e\n",
    "\n",
    "\n",
    "    def __str__(self):\n",
    "\n",
    "        num_decimal_places = 3\n",
    "\n",
    "        def write_coefficient(coefficient, is_initial_term=False):\n",
    "            coefficient = round(coefficient, num_decimal_places)\n",
    "            if coefficient % 1 == 0:\n",
    "                coefficient = int(coefficient)\n",
    "\n",
    "            output = ''\n",
    "\n",
    "            if coefficient < 0:\n",
    "                output += '-'\n",
    "            if coefficient > 0 and not is_initial_term:\n",
    "                output += '+'\n",
    "\n",
    "            if not is_initial_term:\n",
    "                output += ' '\n",
    "\n",
    "            if abs(coefficient) != 1:\n",
    "                output += '{}'.format(abs(coefficient))\n",
    "\n",
    "            return output\n",
    "\n",
    "        n = self.normal_vector.coordinates\n",
    "\n",
    "        try:\n",
    "            initial_index = Plane.first_nonzero_index(n)\n",
    "            terms = [write_coefficient(n[i], is_initial_term=(i==initial_index)) + 'x_{}'.format(i+1)\n",
    "                     for i in range(self.dimension) if round(n[i], num_decimal_places) != 0]\n",
    "            output = ' '.join(terms)\n",
    "\n",
    "        except Exception as e:\n",
    "            if str(e) == self.NO_NONZERO_ELTS_FOUND_MSG:\n",
    "                output = '0'\n",
    "            else:\n",
    "                raise e\n",
    "\n",
    "        constant = round(self.constant_term, num_decimal_places)\n",
    "        if constant % 1 == 0:\n",
    "            constant = int(constant)\n",
    "        output += ' = {}'.format(constant)\n",
    "\n",
    "        return output\n",
    "\n",
    "\n",
    "    @staticmethod\n",
    "    def first_nonzero_index(iterable):\n",
    "        for k, item in enumerate(iterable):\n",
    "            if not MyDecimal(item).is_near_zero():\n",
    "                return k\n",
    "        raise Exception(Plane.NO_NONZERO_ELTS_FOUND_MSG)\n",
    "\n",
    "###################################################\n",
    "# Coding functions for lines - quiz\n",
    "###################################################\n",
    "    \n",
    "    # tests if planes are parallel\n",
    "    def is_parallel_to(self, p):\n",
    "        n1 = self.normal_vector\n",
    "        n2 = p.normal_vector\n",
    "        # uses is_parallel_to function from Vector class\n",
    "        return n1.is_parallel_to(n2)\n",
    "    \n",
    "    # tests if lines are equal\n",
    "    def __eq__(self,p):\n",
    "        \n",
    "        # handls special case if normal vector is zero vector\n",
    "        if self.normal_vector.is_zero():\n",
    "            if not p.normal_vector.is_zero():\n",
    "                return False\n",
    "            else:\n",
    "                diff = self.constant_term - p.constant_term\n",
    "                return MyDecimal(diff).is_near_zero()\n",
    "        elif p.normal_vector.is_zero():\n",
    "                return False\n",
    "        \n",
    "        \n",
    "        # automatically false if not parallel\n",
    "        if not self.is_parallel_to(p):\n",
    "            return False\n",
    "        \n",
    "        #sets a basepoint for each line and uses Vector.minus to get vector between them\n",
    "        x0 = self.basepoint\n",
    "        y0 = p.basepoint\n",
    "        basepoint_difference = x0.minus(y0)\n",
    "        \n",
    "        # tests if vector betwen basepoints is orthogonal to the normal vector of n\n",
    "        # is it is, they are the same line\n",
    "        n = self.normal_vector\n",
    "        return basepoint_difference.is_orthogonal_to(n)\n",
    "\n",
    "     \n",
    "\n",
    "class MyDecimal(Decimal):\n",
    "    def is_near_zero(self, eps=1e-10):\n",
    "        return abs(self) < eps"
   ]
  },
  {
   "cell_type": "markdown",
   "metadata": {},
   "source": [
    "### Quiz 7 - Planes in 3 dimensions"
   ]
  },
  {
   "cell_type": "code",
   "execution_count": 10,
   "metadata": {},
   "outputs": [
    {
     "name": "stdout",
     "output_type": "stream",
     "text": [
      "planes are parallel?: True\n",
      "planes are equal?: True\n"
     ]
    }
   ],
   "source": [
    "p1 = Plane(Vector([-0.412, 3.806, 0.728]), -3.46)\n",
    "p2 = Plane(Vector([1.03, -9.515, -1.82]), 8.65)\n",
    "\n",
    "print 'planes are parallel?: {}'.format(p1.is_parallel_to(p2))\n",
    "print 'planes are equal?: {}'.format(p1 == p2)"
   ]
  },
  {
   "cell_type": "code",
   "execution_count": 11,
   "metadata": {},
   "outputs": [
    {
     "name": "stdout",
     "output_type": "stream",
     "text": [
      "planes are parallel?: False\n",
      "planes are equal?: False\n"
     ]
    }
   ],
   "source": [
    "p1 = Plane(Vector([2.611, 5.528, 0.283]), 4.6)\n",
    "p2 = Plane(Vector([7.715, 8.306, 5.342]), 3.76)\n",
    "\n",
    "print 'planes are parallel?: {}'.format(p1.is_parallel_to(p2))\n",
    "print 'planes are equal?: {}'.format(p1 == p2)"
   ]
  },
  {
   "cell_type": "code",
   "execution_count": 12,
   "metadata": {},
   "outputs": [
    {
     "name": "stdout",
     "output_type": "stream",
     "text": [
      "planes are parallel?: True\n",
      "planes are equal?: False\n"
     ]
    }
   ],
   "source": [
    "p1 = Plane(Vector([-7.926, 8.625, -7.212]), -7.95)\n",
    "p2 = Plane(Vector([-2.642, 2.875, -2.404]), -2.44)\n",
    "\n",
    "print 'planes are parallel?: {}'.format(p1.is_parallel_to(p2))\n",
    "print 'planes are equal?: {}'.format(p1 == p2)"
   ]
  },
  {
   "cell_type": "code",
   "execution_count": null,
   "metadata": {
    "collapsed": true
   },
   "outputs": [],
   "source": []
  },
  {
   "cell_type": "code",
   "execution_count": null,
   "metadata": {
    "collapsed": true
   },
   "outputs": [],
   "source": []
  },
  {
   "cell_type": "code",
   "execution_count": null,
   "metadata": {
    "collapsed": true
   },
   "outputs": [],
   "source": []
  },
  {
   "cell_type": "code",
   "execution_count": null,
   "metadata": {
    "collapsed": true
   },
   "outputs": [],
   "source": []
  }
 ],
 "metadata": {
  "kernelspec": {
   "display_name": "Python [conda env:py2]",
   "language": "python",
   "name": "conda-env-py2-py"
  },
  "language_info": {
   "codemirror_mode": {
    "name": "ipython",
    "version": 2
   },
   "file_extension": ".py",
   "mimetype": "text/x-python",
   "name": "python",
   "nbconvert_exporter": "python",
   "pygments_lexer": "ipython2",
   "version": "2.7.13"
  }
 },
 "nbformat": 4,
 "nbformat_minor": 2
}
